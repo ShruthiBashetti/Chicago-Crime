{
 "cells": [
  {
   "cell_type": "code",
   "execution_count": null,
   "id": "c2854f75",
   "metadata": {},
   "outputs": [],
   "source": [
    "##importing modules\n",
    "\n",
    "import numpy as np\n",
    "import pandas as pd\n",
    "import matplotlib.pyplot as plt\n",
    "%matplotlib inline"
   ]
  },
  {
   "cell_type": "code",
   "execution_count": null,
   "id": "3f0e3f27",
   "metadata": {},
   "outputs": [],
   "source": [
    "##Reading latest data \n",
    "\n",
    "## df1 = pd.read_csv(\"Chicago_Crimes_2001_to_2004.csv\",error_bad_lines = False)\n",
    "## df2 = pd.read_csv(\"Chicago_Crimes_2005_to_2007.csv\",error_bad_lines = False)\n",
    "## df3 = pd.read_csv(\"Chicago_Crimes_2008_to_2011.csv\",error_bad_lines = False)\n",
    "Chicago = pd.read_csv(\"Chicago_Crimes_2012_to_2017.csv\",error_bad_lines = False)\n"
   ]
  },
  {
   "cell_type": "markdown",
   "id": "cf7ab439",
   "metadata": {},
   "source": [
    "# DataSet Info"
   ]
  },
  {
   "cell_type": "markdown",
   "id": "12a62e88",
   "metadata": {},
   "source": [
    "\n",
    " - ID : Unique identifier for the record.\n",
    "\n",
    " - Case Number : The Chicago Police Department RD Number (Records Division Number), which is unique to the incident.\n",
    "\n",
    " - Date - Date when the incident occurred. this is sometimes a best estimate.\n",
    "\n",
    " - Block - The partially redacted address where the incident occurred, placing it on the same block as the actual address.\n",
    "\n",
    " - IUCR - The Illinois Unifrom Crime Reporting code. This is directly linked to the Primary Type and Description. See the list                   of IUCR codes at https://data.cityofchicago.org/d/c7ck-438e.\n",
    "\n",
    " - Primary Type - The primary description of the IUCR code.\n",
    "\n",
    " - Description - The secondary description of the IUCR code, a subcategory of the primary description.\n",
    "\n",
    " - Location Description - Description of the location where the incident occurred.\n",
    "\n",
    " - Arrest - Indicates whether an arrest was made.\n",
    "\n",
    " - Domestic - Indicates whether the incident was domestic-related as defined by the Illinois Domestic Violence Act.\n",
    "\n",
    " - Beat - Indicates the beat where the incident occurred. A beat is the smallest police geographic area – each beat has a dedicated police beat car. Three to five beats make up a police sector, and three sectors make up a police district. The Chicago Police Department has 22 police districts. See the beats at https://data.cityofchicago.org/d/aerh-rz74.\n",
    "\n",
    " - District - Indicates the police district where the incident occurred. See the districts at https://data.cityofchicago.org/d/fthy-xz3r.\n",
    "\n",
    " - Ward - The ward (City Council district) where the incident occurred. See the wards at https://data.cityofchicago.org/d/sp34-6z76.\n",
    "\n",
    " - Community Area - Indicates the community area where the incident occurred. Chicago has 77 community areas. See the community areas at https://data.cityofchicago.org/d/cauq-8yn6.\n",
    "\n",
    " - FBI Code - Indicates the crime classification as outlined in the FBI's National Incident-Based Reporting System (NIBRS). See the Chicago Police Department listing of these classifications at http://gis.chicagopolice.org/clearmap_crime_sums/crime_types.html.\n",
    "\n",
    "- X Coordinate - The x coordinate of the location where the incident occurred in State Plane Illinois East NAD 1983 projection. This location is shifted from the actual location for partial redaction but falls on the same block.\n",
    "\n",
    " - Y Coordinate - The y coordinate of the location where the incident occurred in State Plane Illinois East NAD 1983 projection. This location is shifted from the actual location for partial redaction but falls on the same block.\n",
    "\n",
    " - Year - Year the incident occurred.\n",
    "\n",
    " - Updated On - Date and time the record was last updated.\n",
    "\n",
    " - Latitude - The latitude of the location where the incident occurred. This location is shifted from the actual location for partial redaction but falls on the same block.\n",
    "\n",
    " - Longitude - The longitude of the location where the incident occurred. This location is shifted from the actual location for partial redaction but falls on the same block.\n",
    "\n",
    " - Location - The location where the incident occurred in a format that allows for creation of maps and other geographic operations on this data portal. This location is shifted from the actual location for partial redaction but falls on the same block."
   ]
  },
  {
   "cell_type": "code",
   "execution_count": null,
   "id": "22f51d45",
   "metadata": {},
   "outputs": [],
   "source": [
    "Chicago.head(100)"
   ]
  },
  {
   "cell_type": "code",
   "execution_count": null,
   "id": "48a21f5b",
   "metadata": {},
   "outputs": [],
   "source": [
    "Chicago.info()"
   ]
  },
  {
   "cell_type": "code",
   "execution_count": null,
   "id": "e4254256",
   "metadata": {},
   "outputs": [],
   "source": [
    "Chicago.describe()"
   ]
  },
  {
   "cell_type": "markdown",
   "id": "afa8f439",
   "metadata": {},
   "source": [
    "# Checking for null values"
   ]
  },
  {
   "cell_type": "code",
   "execution_count": null,
   "id": "6ee5b9c5",
   "metadata": {},
   "outputs": [],
   "source": [
    "Chicago.isna().sum()"
   ]
  },
  {
   "cell_type": "code",
   "execution_count": null,
   "id": "0705f3b0",
   "metadata": {},
   "outputs": [],
   "source": [
    "Chicago.shape"
   ]
  },
  {
   "cell_type": "markdown",
   "id": "5eb4133c",
   "metadata": {},
   "source": [
    "# Removing null values"
   ]
  },
  {
   "cell_type": "code",
   "execution_count": null,
   "id": "b596a160",
   "metadata": {},
   "outputs": [],
   "source": [
    "Chicago = Chicago.dropna()"
   ]
  },
  {
   "cell_type": "code",
   "execution_count": null,
   "id": "acd39bba",
   "metadata": {},
   "outputs": [],
   "source": [
    "Chicago.shape"
   ]
  },
  {
   "cell_type": "markdown",
   "id": "3e713c4a",
   "metadata": {},
   "source": [
    "# Drop unecessary columns "
   ]
  },
  {
   "cell_type": "code",
   "execution_count": null,
   "id": "f905403a",
   "metadata": {},
   "outputs": [],
   "source": [
    "Chicago.drop([\"Unnamed: 0\",\"ID\",\"Case Number\"],axis=1,inplace=True)"
   ]
  },
  {
   "cell_type": "code",
   "execution_count": null,
   "id": "32e2a258",
   "metadata": {},
   "outputs": [],
   "source": [
    "Chicago.drop(['IUCR','X Coordinate','Y Coordinate','Location'],axis=1,inplace=True)"
   ]
  },
  {
   "cell_type": "markdown",
   "id": "359a9a77",
   "metadata": {},
   "source": [
    "# Chaging Datatypes"
   ]
  },
  {
   "cell_type": "code",
   "execution_count": null,
   "id": "d7f9e8c4",
   "metadata": {},
   "outputs": [],
   "source": [
    "##set index of Datetime\n",
    "\n",
    "Chicago.Date = pd.to_datetime(Chicago.Date,format = '%m/%d/%Y %I:%M:%S %p')\n",
    "Chicago.index = pd.DatetimeIndex(Chicago.Date)"
   ]
  },
  {
   "cell_type": "code",
   "execution_count": null,
   "id": "ab72cc02",
   "metadata": {},
   "outputs": [],
   "source": [
    "Chicago.info()"
   ]
  },
  {
   "cell_type": "markdown",
   "id": "cfa8cc64",
   "metadata": {},
   "source": [
    "# Handling Duplicates"
   ]
  },
  {
   "cell_type": "code",
   "execution_count": null,
   "id": "61fe6e02",
   "metadata": {},
   "outputs": [],
   "source": [
    "Chicago.duplicated()"
   ]
  },
  {
   "cell_type": "code",
   "execution_count": null,
   "id": "c52411c3",
   "metadata": {},
   "outputs": [],
   "source": [
    "Chicago.duplicated().sum()"
   ]
  },
  {
   "cell_type": "code",
   "execution_count": null,
   "id": "8682769e",
   "metadata": {},
   "outputs": [],
   "source": [
    "Chicago = Chicago.drop_duplicates()"
   ]
  },
  {
   "cell_type": "code",
   "execution_count": null,
   "id": "620b3167",
   "metadata": {},
   "outputs": [],
   "source": [
    "Chicago.shape"
   ]
  },
  {
   "cell_type": "code",
   "execution_count": null,
   "id": "bd1df94c",
   "metadata": {},
   "outputs": [],
   "source": [
    "Chicago.describe()"
   ]
  },
  {
   "cell_type": "markdown",
   "id": "3f264018",
   "metadata": {},
   "source": [
    "# Handling Columns"
   ]
  },
  {
   "cell_type": "code",
   "execution_count": null,
   "id": "72c44a61",
   "metadata": {},
   "outputs": [],
   "source": [
    "Chicago['Primary Type']"
   ]
  },
  {
   "cell_type": "code",
   "execution_count": null,
   "id": "af791e17",
   "metadata": {},
   "outputs": [],
   "source": [
    "Chicago['Primary Type'].unique()"
   ]
  },
  {
   "cell_type": "markdown",
   "id": "aa0306b8",
   "metadata": {},
   "source": [
    "# deleting non-criminal acts"
   ]
  },
  {
   "cell_type": "code",
   "execution_count": null,
   "id": "2ac3f838",
   "metadata": {},
   "outputs": [],
   "source": [
    "\n",
    "Chicago.drop(Chicago.index [Chicago[ 'Primary Type' ] == 'PUBLIC INDECENCY' ] , inplace = True)\n",
    "Chicago.drop(Chicago.index [Chicago[ 'Primary Type' ] == 'NON-CRIMINAL (SUBJECT SPECIFIED)' ] , inplace = True)\n",
    "Chicago.drop(Chicago.index [Chicago[ 'Primary Type' ] == 'NON-CRIMINAL' ] , inplace = True)\n",
    "Chicago.drop(Chicago.index [Chicago[ 'Primary Type' ] == 'NON - CRIMINAL' ] , inplace = True)\n",
    "Chicago.drop(Chicago.index [Chicago[ 'Primary Type' ] == 'OBSCENITY' ] , inplace = True)\n",
    "Chicago.drop(Chicago.index [Chicago[ 'Primary Type' ] == 'CONCEALED CARRY LICENSE VIOLATION' ] , inplace = True)"
   ]
  },
  {
   "cell_type": "code",
   "execution_count": null,
   "id": "b8313598",
   "metadata": {},
   "outputs": [],
   "source": [
    "Chicago['Primary Type'].unique()"
   ]
  },
  {
   "cell_type": "markdown",
   "id": "cf3668c9",
   "metadata": {},
   "source": [
    "# Vizualizations"
   ]
  },
  {
   "cell_type": "markdown",
   "id": "21d5782d",
   "metadata": {},
   "source": [
    "# making similar crimes together"
   ]
  },
  {
   "cell_type": "code",
   "execution_count": null,
   "id": "ce10e08a",
   "metadata": {},
   "outputs": [],
   "source": [
    "\n",
    "\n",
    "condition = [(Chicago['Primary Type'] == 'MOTOR VEHICLE THEFT'),\n",
    "                (Chicago['Primary Type'] == 'THEFT'),\n",
    "                (Chicago['Primary Type'] == 'ROBBERY'),\n",
    "                (Chicago['Primary Type'] == 'BURGLARY'),\n",
    "                (Chicago['Primary Type'] == 'ASSAULT'),\n",
    "                (Chicago['Primary Type'] == 'PROSTITUTION'),\n",
    "                (Chicago['Primary Type'] == 'BATTERY'),\n",
    "                (Chicago['Primary Type'] == 'CRIM SEXUAL ASSAULT'),\n",
    "                (Chicago['Primary Type'] == 'SEX OFFENSE'),\n",
    "                (Chicago['Primary Type'] == 'INTIMIDATION'),\n",
    "                (Chicago['Primary Type'] == 'STALKING'),\n",
    "                (Chicago['Primary Type'] == 'ARSON'),\n",
    "                 (Chicago['Primary Type'] == 'KIDNAPPING'),\n",
    "                (Chicago['Primary Type'] == 'OFFENSE INVOLVING CHILDREN'),\n",
    "                (Chicago['Primary Type'] =='PUBLIC PEACE VIOLATION'),\n",
    "                (Chicago['Primary Type'] == 'OTHER NARCOTIC VIOLATION'),\n",
    "                 (Chicago['Primary Type'] == 'NARCOTICS'),\n",
    "                (Chicago['Primary Type'] == 'LIQUOR LAW VIOLATION'),\n",
    "                (Chicago['Primary Type'] == 'CRIMINAL DAMAGE'),\n",
    "                (Chicago['Primary Type'] == 'HUMAN TRAFFICKING'),\n",
    "                 (Chicago['Primary Type'] == 'WEAPONS VIOLATION'),\n",
    "                (Chicago['Primary Type'] == 'INTERFERENCE WITH PUBLIC OFFICER'),\n",
    "                (Chicago['Primary Type'] == 'CRIMINAL TRESPASS'),\n",
    "                 (Chicago['Primary Type'] == 'HOMICIDE'),\n",
    "                (Chicago['Primary Type'] == 'DECEPTIVE PRACTICE'),\n",
    "                (Chicago['Primary Type'] == 'OTHER OFFENSE'),\n",
    "                (Chicago['Primary Type'] == 'GAMBLING'\n",
    "                )\n",
    "               ]\n",
    "categ = ['THEFT', 'THEFT', 'THEFT','THEFT', \n",
    "            'ASSAULT' , 'ASSAULT' , 'ASSAULT' , 'ASSAULT', 'ASSAULT','ASSAULT','ASSAULT','ASSAULT','ASSAULT','ASSAULT', 'ASSAULT',\n",
    "            'NARCOTICS', 'NARCOTICS', 'NARCOTICS',\n",
    "            'CRIMINAL DAMAGE','CRIMINAL DAMAGE','CRIMINAL DAMAGE', 'CRIMINAL DAMAGE', 'CRIMINAL DAMAGE',\n",
    "            'OTHER OFFENSE','OTHER OFFENSE','OTHER OFFENSE', 'OTHER OFFENSE']\n",
    "Chicago['Type'] = np.select(condition , categ)"
   ]
  },
  {
   "cell_type": "code",
   "execution_count": null,
   "id": "df637d7a",
   "metadata": {},
   "outputs": [],
   "source": [
    "Chicago['Type']"
   ]
  },
  {
   "cell_type": "markdown",
   "id": "9c7050fb",
   "metadata": {},
   "source": [
    "# crimes by type"
   ]
  },
  {
   "cell_type": "code",
   "execution_count": null,
   "id": "f77974ea",
   "metadata": {},
   "outputs": [],
   "source": [
    "\n",
    "\n",
    "plt.figure(figsize=(14,10))\n",
    "plt.title('Amount of Crimes by Primary Type')\n",
    "plt.ylabel('Crime Type')\n",
    "plt.xlabel('Amount of Crimes')\n",
    "Chicago.groupby([Chicago['Primary Type']]).size().sort_values(ascending=True).plot(kind='barh')\n"
   ]
  },
  {
   "cell_type": "code",
   "execution_count": null,
   "id": "c5f41257",
   "metadata": {},
   "outputs": [],
   "source": [
    "plt.figure(figsize=(14,10))\n",
    "plt.title('Amount of Crimes by Primary Type')\n",
    "plt.ylabel('Crime Type')\n",
    "plt.xlabel('Amount of Crimes')\n",
    "Chicago.groupby([Chicago['Type']]).size().sort_values(ascending=True).plot(kind='barh')"
   ]
  },
  {
   "cell_type": "code",
   "execution_count": null,
   "id": "e8208bcd",
   "metadata": {},
   "outputs": [],
   "source": [
    "plt.figure(figsize=(14,10))\n",
    "plt.title('Amount of Crimes by Primary Type')\n",
    "plt.ylabel('Crime Type')\n",
    "plt.xlabel('Amount of Crimes')\n",
    "Chicago.groupby([Chicago['Type']]).size().sort_values(ascending=True).plot(kind='barh')"
   ]
  },
  {
   "cell_type": "markdown",
   "id": "5c290328",
   "metadata": {},
   "source": [
    "# crimes by domestic\n"
   ]
  },
  {
   "cell_type": "code",
   "execution_count": null,
   "id": "87b81659",
   "metadata": {
    "scrolled": true
   },
   "outputs": [],
   "source": [
    "\n",
    "\n",
    "plt.figure(figsize=(11,10))\n",
    "plt.title('Amount of Crimes by Domestic')\n",
    "plt.ylabel('Domestic')\n",
    "plt.xlabel('Amount of Crimes')\n",
    "Chicago.groupby([Chicago['Domestic']]).size().sort_values(ascending=True).plot(kind='barh')"
   ]
  },
  {
   "cell_type": "code",
   "execution_count": null,
   "id": "f929c1e9",
   "metadata": {},
   "outputs": [],
   "source": [
    "Chicago.head(50)"
   ]
  },
  {
   "cell_type": "code",
   "execution_count": null,
   "id": "bf8f8bdd",
   "metadata": {},
   "outputs": [],
   "source": [
    "Chicago['Location Description'].unique()"
   ]
  },
  {
   "cell_type": "markdown",
   "id": "23cda617",
   "metadata": {},
   "source": [
    "# crimes by Place"
   ]
  },
  {
   "cell_type": "code",
   "execution_count": null,
   "id": "b57438e9",
   "metadata": {},
   "outputs": [],
   "source": [
    "\n",
    "\n",
    "import seaborn as sns\n",
    "\n",
    "plt.figure(figsize=(11,10))\n",
    "sns.countplot(y='Location Description', data=Chicago ,order=Chicago['Location Description'].value_counts().iloc[:15].index)\n",
    "plt.title('Top 15 Places where happend (Crimes of Chicago)')"
   ]
  },
  {
   "cell_type": "markdown",
   "id": "fcc0539f",
   "metadata": {},
   "source": [
    "# Number of Arrested Cases"
   ]
  },
  {
   "cell_type": "code",
   "execution_count": null,
   "id": "292a18de",
   "metadata": {},
   "outputs": [],
   "source": [
    "import plotly.express as px\n",
    "import plotly.graph_objects as go\n",
    "\n",
    "fig = px.pie(Chicago,names=\"Arrest\",title='Number of arrested cases' , color_discrete_sequence= px.colors.qualitative.Set2)\n",
    "\n",
    "fig.show()"
   ]
  },
  {
   "cell_type": "markdown",
   "id": "ec63634d",
   "metadata": {},
   "source": [
    "# Amount of Crimes by Type"
   ]
  },
  {
   "cell_type": "code",
   "execution_count": null,
   "id": "8811979b",
   "metadata": {},
   "outputs": [],
   "source": [
    "plt.figure(figsize=(20, 8), dpi=80)\n",
    "sns.set_theme(style=\"whitegrid\")\n",
    "sns.countplot(x=\"Type\", palette='magma', data=Chicago , dodge=True , order = Chicago['Type'].value_counts().index )\n",
    "order1 = Chicago['Type'].value_counts().to_list()\n",
    "for i in range(5):\n",
    "    count = order1[i]\n",
    "    strt='{:.0f}'.format(count)\n",
    "    plt.text(i,count,strt,ha='center', zorder=10)\n",
    "plt.show()"
   ]
  },
  {
   "cell_type": "markdown",
   "id": "c215f9e4",
   "metadata": {},
   "source": [
    "# Crimes Per Year"
   ]
  },
  {
   "cell_type": "code",
   "execution_count": null,
   "id": "dc9cc639",
   "metadata": {},
   "outputs": [],
   "source": [
    "plt.plot(Chicago.resample('Y').size())\n",
    "plt.title('Crime count per year')\n",
    "plt.xlabel('Years')\n",
    "plt.ylabel('Number of Crimes')"
   ]
  },
  {
   "cell_type": "markdown",
   "id": "be9c7389",
   "metadata": {},
   "source": [
    "# Crimes per month over years"
   ]
  },
  {
   "cell_type": "code",
   "execution_count": null,
   "id": "84b4b77a",
   "metadata": {},
   "outputs": [],
   "source": [
    "plt.plot(Chicago.resample('M').size())\n",
    "plt.title('Crime count per month')\n",
    "plt.xlabel('Months')\n",
    "plt.ylabel('Number of Crimes')"
   ]
  },
  {
   "cell_type": "markdown",
   "id": "7a9f0938",
   "metadata": {},
   "source": [
    "# Crimes per Quarter"
   ]
  },
  {
   "cell_type": "code",
   "execution_count": null,
   "id": "566d5f8d",
   "metadata": {},
   "outputs": [],
   "source": [
    "q = Chicago.resample('Q')\n",
    "q\n",
    "q.size()"
   ]
  },
  {
   "cell_type": "code",
   "execution_count": null,
   "id": "b70902e9",
   "metadata": {},
   "outputs": [],
   "source": [
    "plt.plot(Chicago.resample('Q').size())\n",
    "plt.title('Crime count per quarter')\n",
    "plt.xlabel('Quarter')\n",
    "plt.ylabel('Number of Crimes')"
   ]
  },
  {
   "cell_type": "code",
   "execution_count": null,
   "id": "f189d83d",
   "metadata": {},
   "outputs": [],
   "source": [
    "Max_crimes_per_day = pd.DataFrame(Chicago['Date'].value_counts() , Chicago['Date'].value_counts().index)"
   ]
  },
  {
   "cell_type": "code",
   "execution_count": null,
   "id": "ea85883e",
   "metadata": {},
   "outputs": [],
   "source": [
    "Max_crimes_per_day.head(15)"
   ]
  },
  {
   "cell_type": "markdown",
   "id": "0122d3d5",
   "metadata": {},
   "source": [
    "# Correaltion"
   ]
  },
  {
   "cell_type": "code",
   "execution_count": null,
   "id": "4476a83f",
   "metadata": {},
   "outputs": [],
   "source": [
    "Chicago.corr()"
   ]
  },
  {
   "cell_type": "code",
   "execution_count": null,
   "id": "7e33c7d6",
   "metadata": {},
   "outputs": [],
   "source": [
    "matrix = Chicago.corr().round(1)\n",
    "sns.heatmap(matrix, annot=True)\n",
    "plt.show()"
   ]
  },
  {
   "cell_type": "code",
   "execution_count": null,
   "id": "8cba84af",
   "metadata": {},
   "outputs": [],
   "source": [
    "matrix = Chicago.corr().round(1)\n",
    "mask = np.triu(np.ones_like(matrix, dtype=bool))\n",
    "sns.heatmap(matrix, annot=True, vmax=1, vmin=-1, center=0, cmap='vlag', mask=mask)\n",
    "plt.show()"
   ]
  },
  {
   "cell_type": "code",
   "execution_count": null,
   "id": "c1b55a07",
   "metadata": {},
   "outputs": [],
   "source": [
    "Chicago.dtypes"
   ]
  },
  {
   "cell_type": "code",
   "execution_count": null,
   "id": "9fa4aef8",
   "metadata": {},
   "outputs": [],
   "source": [
    "Chicago.Date"
   ]
  },
  {
   "cell_type": "markdown",
   "id": "823727dc",
   "metadata": {},
   "source": [
    "# ForeCasting"
   ]
  },
  {
   "cell_type": "code",
   "execution_count": null,
   "id": "4d10059e",
   "metadata": {},
   "outputs": [],
   "source": [
    "from prophet import Prophet"
   ]
  },
  {
   "cell_type": "code",
   "execution_count": null,
   "id": "256a3d24",
   "metadata": {},
   "outputs": [],
   "source": [
    "df1 = Chicago[['Date', 'Primary Type']].groupby('Date').count().reset_index()\n",
    "df1 = df1.rename(columns={'Date': 'ds', 'Primary Type': 'y'})\n"
   ]
  },
  {
   "cell_type": "code",
   "execution_count": null,
   "id": "bda7fdad",
   "metadata": {},
   "outputs": [],
   "source": [
    "df1 = Chicago.resample('D').size().reset_index()"
   ]
  },
  {
   "cell_type": "code",
   "execution_count": null,
   "id": "53e7f46d",
   "metadata": {},
   "outputs": [],
   "source": [
    "df1"
   ]
  },
  {
   "cell_type": "code",
   "execution_count": null,
   "id": "d71482d5",
   "metadata": {},
   "outputs": [],
   "source": [
    "df1 = df1.rename(columns={'Date':'ds', 0:'y'})"
   ]
  },
  {
   "cell_type": "code",
   "execution_count": null,
   "id": "cd8c719c",
   "metadata": {},
   "outputs": [],
   "source": [
    "df1"
   ]
  },
  {
   "cell_type": "code",
   "execution_count": null,
   "id": "e3f5bf4a",
   "metadata": {},
   "outputs": [],
   "source": [
    "#define model\n",
    "\n",
    "model = Prophet()"
   ]
  },
  {
   "cell_type": "code",
   "execution_count": null,
   "id": "50cca6c3",
   "metadata": {},
   "outputs": [],
   "source": [
    "##fit into model\n",
    "\n",
    "model.fit(df1)"
   ]
  },
  {
   "cell_type": "code",
   "execution_count": null,
   "id": "62dc967c",
   "metadata": {},
   "outputs": [],
   "source": [
    "#generating future forecast for next 365 days\n",
    "\n",
    "future = model.make_future_dataframe(periods=365)"
   ]
  },
  {
   "cell_type": "code",
   "execution_count": null,
   "id": "d4e5affc",
   "metadata": {},
   "outputs": [],
   "source": [
    "# Make predictions\n",
    "\n",
    "forecast = model.predict(future)"
   ]
  },
  {
   "cell_type": "code",
   "execution_count": null,
   "id": "a17e9f15",
   "metadata": {},
   "outputs": [],
   "source": [
    "model.plot(forecast)"
   ]
  }
 ],
 "metadata": {
  "kernelspec": {
   "display_name": "Python 3 (ipykernel)",
   "language": "python",
   "name": "python3"
  },
  "language_info": {
   "codemirror_mode": {
    "name": "ipython",
    "version": 3
   },
   "file_extension": ".py",
   "mimetype": "text/x-python",
   "name": "python",
   "nbconvert_exporter": "python",
   "pygments_lexer": "ipython3",
   "version": "3.9.13"
  }
 },
 "nbformat": 4,
 "nbformat_minor": 5
}
